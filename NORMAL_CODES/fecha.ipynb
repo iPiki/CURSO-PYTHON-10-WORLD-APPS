{
 "cells": [
  {
   "cell_type": "code",
   "execution_count": 3,
   "metadata": {},
   "outputs": [
    {
     "data": {
      "text/plain": [
       "'2019/02/20'"
      ]
     },
     "execution_count": 3,
     "metadata": {},
     "output_type": "execute_result"
    }
   ],
   "source": [
    "fecha=list(str(input(\"Fecha: \")))\n",
    "yyyy_mm_dd=[\"\".join(fecha[:4]),\"\".join(fecha[4:7]),\"\".join(fecha[7:])]\n",
    "año=yyyy_mm_dd[0]\n",
    "mes=yyyy_mm_dd[1]\n",
    "dia=yyyy_mm_dd[2]\n",
    "dias_semana=[\"lunes\",\"martes\",\"miercoles\",\"jueves\",\"viernes\",\"sabado\",\"domingo\"]\n",
    "dia_texto=dia+\"/\"+mes+\"/\"+año+\" = Dia: \"+dias_semana[]\n",
    "yyyy_mm_dd\n",
    "fecha"
   ]
  }
 ],
 "metadata": {
  "interpreter": {
   "hash": "acc4270b0763756cc69ad57d175f4da86e4a9cbd6e09d22612d45a5fef033a01"
  },
  "kernelspec": {
   "display_name": "Python 3.10.1 64-bit",
   "language": "python",
   "name": "python3"
  },
  "language_info": {
   "codemirror_mode": {
    "name": "ipython",
    "version": 3
   },
   "file_extension": ".py",
   "mimetype": "text/x-python",
   "name": "python",
   "nbconvert_exporter": "python",
   "pygments_lexer": "ipython3",
   "version": "3.10.1"
  },
  "orig_nbformat": 4
 },
 "nbformat": 4,
 "nbformat_minor": 2
}
