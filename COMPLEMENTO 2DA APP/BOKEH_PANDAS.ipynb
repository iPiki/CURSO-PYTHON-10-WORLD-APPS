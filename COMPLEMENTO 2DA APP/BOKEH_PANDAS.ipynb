{
 "cells": [
  {
   "cell_type": "code",
   "execution_count": null,
   "metadata": {},
   "outputs": [],
   "source": [
    "from bokeh.plotting import figure\n",
    "from bokeh.io import output_file, save, show \n",
    "import pandas\n",
    "\n",
    "csv=pandas.read_csv(\"https://raw.githubusercontent.com/iPiki/CURSO-PYTHON-10-WORLD-APPS/main/3RA%20APP/data.csv?token=GHSAT0AAAAAABSKR6O3TG2IWJAYLHAY7DZMYRQ4LWA\")\n",
    "\n",
    "equis=csv[\"x\"]\n",
    "ye=csv[\"y\"]\n",
    "\n",
    "output_file(r\"C:\\Users\\carlos.gonzalez\\Desktop\\Linea_pandas.html\")\n",
    "\n",
    "f=figure()\n",
    "\n",
    "f.line(equis,ye)\n",
    "\n",
    "save(f)\n",
    "\n",
    "show(f)"
   ]
  },
  {
   "cell_type": "code",
   "execution_count": null,
   "metadata": {},
   "outputs": [],
   "source": [
    "from bokeh.plotting import figure\n",
    "from bokeh.io import output_file, save, show \n",
    "import pandas\n",
    "\n",
    "csv_2=pandas.read_csv(\"https://raw.githubusercontent.com/iPiki/CURSO-PYTHON-10-WORLD-APPS/main/3RA%20APP/bachelors.csv?token=GHSAT0AAAAAABSKR6O2LKVCMCYKRFMDH3S2YRQ42MQ\")\n",
    "\n",
    "ye=csv_2.loc[:\"Engineering\"]\n",
    "equis=csv_2.loc[:\"Year\"]\n",
    "\n",
    "output_file(r\"C:\\Users\\carlos.gonzalez\\Desktop\\Linea_pandas_2.html\")\n",
    "\n",
    "f=figure()\n",
    "\n",
    "f.line(equis,ye)\n",
    "\n",
    "save(f)\n",
    "\n",
    "show(f)"
   ]
  },
  {
   "cell_type": "code",
   "execution_count": 63,
   "metadata": {},
   "outputs": [],
   "source": [
    "from bokeh.plotting import figure\n",
    "from bokeh.io import output_file, save, show \n",
    "import pandas\n",
    "\n",
    "excel=pandas.read_excel(\"https://github.com/pythonizing/data/raw/master/verlegenhuken.xlsx\")\n",
    "\n",
    "equis=excel[\"Temperature\"]\n",
    "equis_prima=equis/10\n",
    "ye=excel[\"Pressure\"]\n",
    "ye_prima=ye/10\n",
    "\n",
    "output_file(r\"C:\\Users\\carlos.gonzalez\\Desktop\\Linea_pandas_3.html\")\n",
    "\n",
    "graph=figure(plot_width=500,plot_height=400, tools=\"pan\")\n",
    "\n",
    "graph.title.text=\"Temperature and Air Pressure\"\n",
    "graph.title.text_color=\"gray\"\n",
    "graph.title.text_font=\"time\"\n",
    "graph.title.text_font_style=\"bold\"\n",
    "graph.xaxis.minor_tick_line_color=\"red\"\n",
    "graph.yaxis.minor_tick_line_color=\"blue\"\n",
    "graph.xaxis.axis_label=\"Temperature (°C)\"\n",
    "graph.yaxis.axis_label=\"Pressure (hPa)\"\n",
    "\n",
    "graph.circle(equis_prima,ye_prima)\n",
    "\n",
    "save(graph)\n",
    "\n",
    "show(graph)"
   ]
  },
  {
   "cell_type": "code",
   "execution_count": 49,
   "metadata": {},
   "outputs": [],
   "source": [
    "from bokeh.plotting import figure\n",
    "from bokeh.io import output_file, save, show \n",
    "import pandas\n",
    "\n",
    "excel=pandas.read_csv(\"https://raw.githubusercontent.com/iPiki/CURSO-PYTHON-10-WORLD-APPS/main/COMPLEMENTO%202DA%20APP/adbe.csv\",parse_dates=[\"Date\"])\n",
    "\n",
    "f=figure(width=500,height=250,x_axis_type=\"datetime\")\n",
    "\n",
    "f.line(excel[\"Date\"],excel[\"Close\"])\n",
    "\n",
    "output_file(r\"./Time_stamps.html\")\n",
    "\n",
    "save(f)\n",
    "\n",
    "show(f)"
   ]
  }
 ],
 "metadata": {
  "interpreter": {
   "hash": "e9774324ad22bef9299595d504c9364974fc0abbd674624acb6c4bc5531c7ff5"
  },
  "kernelspec": {
   "display_name": "Python 3.9.9 64-bit",
   "language": "python",
   "name": "python3"
  },
  "language_info": {
   "codemirror_mode": {
    "name": "ipython",
    "version": 3
   },
   "file_extension": ".py",
   "mimetype": "text/x-python",
   "name": "python",
   "nbconvert_exporter": "python",
   "pygments_lexer": "ipython3",
   "version": "3.9.9"
  },
  "orig_nbformat": 4
 },
 "nbformat": 4,
 "nbformat_minor": 2
}
