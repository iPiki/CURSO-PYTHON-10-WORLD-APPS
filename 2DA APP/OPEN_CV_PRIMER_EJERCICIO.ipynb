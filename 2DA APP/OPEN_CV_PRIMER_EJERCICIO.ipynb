{
 "cells": [
  {
   "cell_type": "code",
   "execution_count": 28,
   "metadata": {},
   "outputs": [
    {
     "name": "stdout",
     "output_type": "stream",
     "text": [
      "[[14 18 14 ... 20 15 16]\n",
      " [12 16 12 ... 20 15 17]\n",
      " [12 13 16 ... 14 24 21]\n",
      " ...\n",
      " [ 0  0  0 ...  5  8 14]\n",
      " [ 0  0  0 ...  2  3  9]\n",
      " [ 1  1  1 ...  1  1  3]]\n",
      "<class 'numpy.ndarray'>\n",
      "(1485, 990)\n",
      "2\n",
      "1470150\n"
     ]
    }
   ],
   "source": [
    "import cv2\n",
    "image=cv2.imread(\"galaxy.jpg\",0)\n",
    "print(image)\n",
    "print(type(image))\n",
    "print(image.shape)\n",
    "print(image.ndim)\n",
    "print(image.size)\n",
    "resize_image=cv2.resize(image,(495,495),dst=1,fx=495,fy=495)\n",
    "cv2.imshow(\"Galaxy\",resize_image)\n",
    "cv2.imwrite(\"Galaxy_imagen_cuadrada.jpg\", resize_image)\n",
    "cv2.waitKey(0)\n",
    "cv2.destroyAllWindows()\n",
    "\n"
   ]
  }
 ],
 "metadata": {
  "interpreter": {
   "hash": "acc4270b0763756cc69ad57d175f4da86e4a9cbd6e09d22612d45a5fef033a01"
  },
  "kernelspec": {
   "display_name": "Python 3.10.1 64-bit",
   "language": "python",
   "name": "python3"
  },
  "language_info": {
   "codemirror_mode": {
    "name": "ipython",
    "version": 3
   },
   "file_extension": ".py",
   "mimetype": "text/x-python",
   "name": "python",
   "nbconvert_exporter": "python",
   "pygments_lexer": "ipython3",
   "version": "3.10.1"
  },
  "orig_nbformat": 4
 },
 "nbformat": 4,
 "nbformat_minor": 2
}
