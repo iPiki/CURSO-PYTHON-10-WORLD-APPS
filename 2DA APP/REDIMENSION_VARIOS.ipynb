{
 "cells": [
  {
   "cell_type": "code",
   "execution_count": 16,
   "metadata": {},
   "outputs": [],
   "source": [
    "import cv2\n",
    "import glob\n",
    "set_of_images=glob.glob(\"*.jpg\")\n",
    "for single_image in set_of_images:\n",
    "    imagen=cv2.imread(single_image,0)\n",
    "    imagen_resized=cv2.resize(imagen,(100,100))\n",
    "    cv2.imshow(\"Hola!\",imagen_resized)\n",
    "    cv2.waitKey(0)\n",
    "    cv2.destroyAllWindows()\n",
    "    cv2.imwrite(\"resized_\"+single_image,imagen_resized)"
   ]
  }
 ],
 "metadata": {
  "interpreter": {
   "hash": "acc4270b0763756cc69ad57d175f4da86e4a9cbd6e09d22612d45a5fef033a01"
  },
  "kernelspec": {
   "display_name": "Python 3.10.1 64-bit",
   "language": "python",
   "name": "python3"
  },
  "language_info": {
   "codemirror_mode": {
    "name": "ipython",
    "version": 3
   },
   "file_extension": ".py",
   "mimetype": "text/x-python",
   "name": "python",
   "nbconvert_exporter": "python",
   "pygments_lexer": "ipython3",
   "version": "3.10.1"
  },
  "orig_nbformat": 4
 },
 "nbformat": 4,
 "nbformat_minor": 2
}
