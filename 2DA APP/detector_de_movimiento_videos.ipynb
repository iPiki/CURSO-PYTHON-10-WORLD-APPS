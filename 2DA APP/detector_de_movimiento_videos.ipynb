{
 "cells": [
  {
   "cell_type": "code",
   "execution_count": 2,
   "metadata": {},
   "outputs": [],
   "source": [
    "import urllib.request\n",
    "import cv2\n",
    "import time\n",
    "\n",
    "link=\"https://github.com/iPiki/CURSO-PYTHON-10-WORLD-APPS/raw/main/2DA%20APP/VID_20220318_101454.mp4\"\n",
    "urllib.request.urlretrieve(link,\"VIDEO\")\n",
    "video=cv2.VideoCapture(\"VIDEO\")\n",
    "\n",
    "fps=int(video.get(cv2.CAP_PROP_FPS))\n",
    "\n",
    "if video.isOpened()==False:\n",
    "    print(\"Archivo no existe\")\n",
    "\n",
    "primer_cuadro=None\n",
    "\n",
    "while video.isOpened():\n",
    "\n",
    "\n",
    "    check, frame=video.read()\n",
    "\n",
    "    if check==True:\n",
    "        time.sleep(1/fps)\n",
    "        gris=cv2.cvtColor(frame,cv2.COLOR_BGR2GRAY)\n",
    "        gris=cv2.GaussianBlur(gris,(21,21),0)\n",
    "\n",
    "        if primer_cuadro is None:\n",
    "            primer_cuadro=gris\n",
    "            continue\n",
    "\n",
    "        cuadro_delta=cv2.absdiff(primer_cuadro,gris)\n",
    "        desgranar_cuadro=cv2.threshold(cuadro_delta,25,255,cv2.THRESH_BINARY)[1]\n",
    "        desgranar_cuadro=cv2.dilate(desgranar_cuadro,None,iterations=5)\n",
    "\n",
    "        (cnts,_)=cv2.findContours(desgranar_cuadro.copy(),cv2.RETR_EXTERNAL,cv2.CHAIN_APPROX_SIMPLE)\n",
    "\n",
    "        for contour in cnts:\n",
    "            if cv2.contourArea(contour)<1000:\n",
    "                continue\n",
    "            (x,y,w,h)=cv2.boundingRect(contour) \n",
    "            cv2.rectangle(frame,(x,y),(x+w,y+h),(255,0,0),1)\n",
    "\n",
    "\n",
    "        cv2.imshow(\"Gris\",gris)\n",
    "        cv2.imshow(\"Cuadro_delta\",cuadro_delta)\n",
    "        cv2.imshow(\"Desgranar_cuadro\",desgranar_cuadro)\n",
    "        cv2.imshow(\"Color frame\",frame)\n",
    "\n",
    "        if cv2.waitKey(1) & 0xFF==ord('q'):\n",
    "            break\n",
    "    else:\n",
    "        break\n",
    "\n",
    "video.release()\n",
    "cv2.destroyAllWindows()"
   ]
  }
 ],
 "metadata": {
  "interpreter": {
   "hash": "acc4270b0763756cc69ad57d175f4da86e4a9cbd6e09d22612d45a5fef033a01"
  },
  "kernelspec": {
   "display_name": "Python 3.10.1 64-bit",
   "language": "python",
   "name": "python3"
  },
  "language_info": {
   "codemirror_mode": {
    "name": "ipython",
    "version": 3
   },
   "file_extension": ".py",
   "mimetype": "text/x-python",
   "name": "python",
   "nbconvert_exporter": "python",
   "pygments_lexer": "ipython3",
   "version": "3.9.9"
  },
  "orig_nbformat": 4
 },
 "nbformat": 4,
 "nbformat_minor": 2
}
