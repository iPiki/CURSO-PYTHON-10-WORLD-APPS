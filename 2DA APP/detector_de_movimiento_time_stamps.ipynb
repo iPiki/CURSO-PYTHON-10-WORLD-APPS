{
 "cells": [
  {
   "cell_type": "code",
   "execution_count": 13,
   "metadata": {},
   "outputs": [
    {
     "name": "stdout",
     "output_type": "stream",
     "text": [
      "                      Inicia                    Termina\n",
      "0 2022-03-29 15:20:28.550118 2022-03-29 15:20:28.848841\n",
      "1 2022-03-29 15:20:28.912780 2022-03-29 15:20:58.482985\n"
     ]
    }
   ],
   "source": [
    "import urllib.request\n",
    "import cv2\n",
    "import time\n",
    "from datetime   import datetime\n",
    "import pandas\n",
    "\n",
    "link=\"https://github.com/iPiki/CURSO-PYTHON-10-WORLD-APPS/raw/main/2DA%20APP/VID_20220318_101454.mp4\"\n",
    "urllib.request.urlretrieve(link,\"VIDEO\")\n",
    "video=cv2.VideoCapture(\"VIDEO\")\n",
    "if video.isOpened()==False:\n",
    "    print(\"Archivo no existe\")\n",
    "\n",
    "status_list=[None, None]\n",
    "tiempos=[]\n",
    "fps=int(video.get(cv2.CAP_PROP_FRAME_COUNT))\n",
    "data=pandas.DataFrame(columns=[\"Inicia\",\"Termina\"])\n",
    "primer_cuadro=None\n",
    "contador=0\n",
    "\n",
    "while video.isOpened():\n",
    "\n",
    "    check, frame=video.read()\n",
    "    status=0\n",
    "    contador=contador+1\n",
    "    if check==True:\n",
    "        time.sleep(1/fps)\n",
    "        gris=cv2.cvtColor(frame,cv2.COLOR_BGR2GRAY)\n",
    "        gris=cv2.GaussianBlur(gris,(21,21),0)\n",
    "\n",
    "        if primer_cuadro is None:\n",
    "            primer_cuadro=gris\n",
    "            continue\n",
    "\n",
    "        cuadro_delta=cv2.absdiff(primer_cuadro,gris)\n",
    "        desgranar_cuadro=cv2.threshold(cuadro_delta,25,255,cv2.THRESH_BINARY)[1]\n",
    "        desgranar_cuadro=cv2.dilate(desgranar_cuadro,None,iterations=5)\n",
    "\n",
    "        (cnts,_)=cv2.findContours(desgranar_cuadro.copy(),cv2.RETR_EXTERNAL,cv2.CHAIN_APPROX_SIMPLE)\n",
    "\n",
    "        for contour in cnts:\n",
    "            if cv2.contourArea(contour)<5000:\n",
    "                continue\n",
    "            (x,y,w,h)=cv2.boundingRect(contour) \n",
    "            cv2.rectangle(frame,(x,y),(x+w,y+h),(255,0,0),1)\n",
    "            status=1\n",
    "\n",
    "        status_list.append(status)\n",
    "\n",
    "\n",
    "        if status_list[-1]==1 and status_list[-2]==0:\n",
    "            tiempos.append(datetime.now())\n",
    "        if status_list[-1]==0 and status_list[-2]==1:\n",
    "            tiempos.append(datetime.now())\n",
    "    \n",
    "        cv2.imshow(\"Gris\",gris)\n",
    "        cv2.imshow(\"Cuadro_delta\",cuadro_delta)\n",
    "        cv2.imshow(\"Desgranar_cuadro\",desgranar_cuadro)\n",
    "        cv2.imshow(\"Color frame\",frame)\n",
    "\n",
    "        if cv2.waitKey(1) & 0xFF==ord('q') or fps==contador:\n",
    "            status==1\n",
    "            tiempos.append(datetime.now())\n",
    "            break\n",
    "\n",
    "for n in range(0,len(tiempos),2):\n",
    "    data=data.append({\"Inicia\":tiempos[n],\"Termina\":tiempos[n+1]},ignore_index=True)\n",
    "print(data)\n",
    "data.to_csv(\"Tiempos.csv\")\n",
    "video.release()\n",
    "cv2.destroyAllWindows()"
   ]
  },
  {
   "cell_type": "code",
   "execution_count": null,
   "metadata": {},
   "outputs": [],
   "source": [
    "import cv2\n",
    "import time\n",
    "\n",
    "video=cv2.VideoCapture(\"video_prueba_2.mp4\")\n",
    "fps=int(video.get(cv2.CAP_PROP_FRAME_COUNT))\n",
    "print(int(video.get(cv2.CAP_PROP_FRAME_COUNT)))\n",
    "contador=0\n",
    "while True:\n",
    "    contador=contador+1\n",
    "    check, frame=video.read()\n",
    "    gris=cv2.cvtColor(frame,cv2.COLOR_BGR2GRAY)\n",
    "    cv2.imshow(\"Prueba\",gris)\n",
    "    if cv2.waitKey(1) & 0xFF==ord('q') or fps==contador:\n",
    "        break\n",
    "video.release()\n",
    "cv2.destroyAllWindows()\n",
    "print(contador)"
   ]
  }
 ],
 "metadata": {
  "interpreter": {
   "hash": "acc4270b0763756cc69ad57d175f4da86e4a9cbd6e09d22612d45a5fef033a01"
  },
  "kernelspec": {
   "display_name": "Python 3.10.1 64-bit",
   "language": "python",
   "name": "python3"
  },
  "language_info": {
   "codemirror_mode": {
    "name": "ipython",
    "version": 3
   },
   "file_extension": ".py",
   "mimetype": "text/x-python",
   "name": "python",
   "nbconvert_exporter": "python",
   "pygments_lexer": "ipython3",
   "version": "3.10.1"
  },
  "orig_nbformat": 4
 },
 "nbformat": 4,
 "nbformat_minor": 2
}
