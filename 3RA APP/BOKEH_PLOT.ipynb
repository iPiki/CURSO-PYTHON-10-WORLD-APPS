{
 "cells": [
  {
   "cell_type": "code",
   "execution_count": 72,
   "metadata": {},
   "outputs": [
    {
     "ename": "ValueError",
     "evalue": "Absolute path 'C:\\\\Users\\\\carlos.gonzalez\\\\AppData\\\\Local\\\\Programs\\\\Microsoft VS Code\\\\Linea.html' is not in git repository at 'C:\\\\Users\\\\carlos.gonzalez\\\\AppData\\\\Local\\\\Programs\\\\Microsoft VS Code\\\\3RA APP'",
     "output_type": "error",
     "traceback": [
      "\u001b[1;31m---------------------------------------------------------------------------\u001b[0m",
      "\u001b[1;31mValueError\u001b[0m                                Traceback (most recent call last)",
      "\u001b[1;32m\\iPiki\\CURSO-PYTHON-10-WORLD-APPS\\3RA APP\\BOKEH_PLOT.ipynb Cell 1'\u001b[0m in \u001b[0;36m<cell line: 23>\u001b[1;34m()\u001b[0m\n\u001b[0;32m     <a href='vscode-notebook-cell://github/iPiki/CURSO-PYTHON-10-WORLD-APPS/3RA%20APP/BOKEH_PLOT.ipynb#ch0000000vscode-vfs?line=20'>21</a>\u001b[0m repo \u001b[39m=\u001b[39m Repo(repo_dir)\n\u001b[0;32m     <a href='vscode-notebook-cell://github/iPiki/CURSO-PYTHON-10-WORLD-APPS/3RA%20APP/BOKEH_PLOT.ipynb#ch0000000vscode-vfs?line=21'>22</a>\u001b[0m commit_message \u001b[39m=\u001b[39m \u001b[39mstr\u001b[39m(time\u001b[39m.\u001b[39mlocaltime)\n\u001b[1;32m---> <a href='vscode-notebook-cell://github/iPiki/CURSO-PYTHON-10-WORLD-APPS/3RA%20APP/BOKEH_PLOT.ipynb#ch0000000vscode-vfs?line=22'>23</a>\u001b[0m repo\u001b[39m.\u001b[39;49mindex\u001b[39m.\u001b[39;49madd(s)\n\u001b[0;32m     <a href='vscode-notebook-cell://github/iPiki/CURSO-PYTHON-10-WORLD-APPS/3RA%20APP/BOKEH_PLOT.ipynb#ch0000000vscode-vfs?line=23'>24</a>\u001b[0m repo\u001b[39m.\u001b[39mindex\u001b[39m.\u001b[39mcommit(commit_message)\n\u001b[0;32m     <a href='vscode-notebook-cell://github/iPiki/CURSO-PYTHON-10-WORLD-APPS/3RA%20APP/BOKEH_PLOT.ipynb#ch0000000vscode-vfs?line=25'>26</a>\u001b[0m show(f)\n",
      "File \u001b[1;32m~\\AppData\\Local\\Programs\\Python\\Python39\\lib\\site-packages\\git\\index\\base.py:766\u001b[0m, in \u001b[0;36mIndexFile.add\u001b[1;34m(self, items, force, fprogress, path_rewriter, write, write_extension_data)\u001b[0m\n\u001b[0;32m    <a href='file:///c%3A/Users/carlos.gonzalez/AppData/Local/Programs/Python/Python39/lib/site-packages/git/index/base.py?line=664'>665</a>\u001b[0m \u001b[39m\"\"\"Add files from the working tree, specific blobs or BaseIndexEntries\u001b[39;00m\n\u001b[0;32m    <a href='file:///c%3A/Users/carlos.gonzalez/AppData/Local/Programs/Python/Python39/lib/site-packages/git/index/base.py?line=665'>666</a>\u001b[0m \u001b[39mto the index.\u001b[39;00m\n\u001b[0;32m    <a href='file:///c%3A/Users/carlos.gonzalez/AppData/Local/Programs/Python/Python39/lib/site-packages/git/index/base.py?line=666'>667</a>\u001b[0m \n\u001b[1;32m   (...)\u001b[0m\n\u001b[0;32m    <a href='file:///c%3A/Users/carlos.gonzalez/AppData/Local/Programs/Python/Python39/lib/site-packages/git/index/base.py?line=760'>761</a>\u001b[0m \u001b[39m    do not exist.\u001b[39;00m\n\u001b[0;32m    <a href='file:///c%3A/Users/carlos.gonzalez/AppData/Local/Programs/Python/Python39/lib/site-packages/git/index/base.py?line=761'>762</a>\u001b[0m \u001b[39m\"\"\"\u001b[39;00m\n\u001b[0;32m    <a href='file:///c%3A/Users/carlos.gonzalez/AppData/Local/Programs/Python/Python39/lib/site-packages/git/index/base.py?line=762'>763</a>\u001b[0m \u001b[39m# sort the entries into strings and Entries, Blobs are converted to entries\u001b[39;00m\n\u001b[0;32m    <a href='file:///c%3A/Users/carlos.gonzalez/AppData/Local/Programs/Python/Python39/lib/site-packages/git/index/base.py?line=763'>764</a>\u001b[0m \u001b[39m# automatically\u001b[39;00m\n\u001b[0;32m    <a href='file:///c%3A/Users/carlos.gonzalez/AppData/Local/Programs/Python/Python39/lib/site-packages/git/index/base.py?line=764'>765</a>\u001b[0m \u001b[39m# paths can be git-added, for everything else we use git-update-index\u001b[39;00m\n\u001b[1;32m--> <a href='file:///c%3A/Users/carlos.gonzalez/AppData/Local/Programs/Python/Python39/lib/site-packages/git/index/base.py?line=765'>766</a>\u001b[0m paths, entries \u001b[39m=\u001b[39m \u001b[39mself\u001b[39;49m\u001b[39m.\u001b[39;49m_preprocess_add_items(items)\n\u001b[0;32m    <a href='file:///c%3A/Users/carlos.gonzalez/AppData/Local/Programs/Python/Python39/lib/site-packages/git/index/base.py?line=766'>767</a>\u001b[0m entries_added: List[BaseIndexEntry] \u001b[39m=\u001b[39m []\n\u001b[0;32m    <a href='file:///c%3A/Users/carlos.gonzalez/AppData/Local/Programs/Python/Python39/lib/site-packages/git/index/base.py?line=767'>768</a>\u001b[0m \u001b[39m# This code needs a working tree, therefore we try not to run it unless required.\u001b[39;00m\n\u001b[0;32m    <a href='file:///c%3A/Users/carlos.gonzalez/AppData/Local/Programs/Python/Python39/lib/site-packages/git/index/base.py?line=768'>769</a>\u001b[0m \u001b[39m# That way, we are OK on a bare repository as well.\u001b[39;00m\n\u001b[0;32m    <a href='file:///c%3A/Users/carlos.gonzalez/AppData/Local/Programs/Python/Python39/lib/site-packages/git/index/base.py?line=769'>770</a>\u001b[0m \u001b[39m# If there are no paths, the rewriter has nothing to do either\u001b[39;00m\n",
      "File \u001b[1;32m~\\AppData\\Local\\Programs\\Python\\Python39\\lib\\site-packages\\git\\index\\base.py:602\u001b[0m, in \u001b[0;36mIndexFile._preprocess_add_items\u001b[1;34m(self, items)\u001b[0m\n\u001b[0;32m    <a href='file:///c%3A/Users/carlos.gonzalez/AppData/Local/Programs/Python/Python39/lib/site-packages/git/index/base.py?line=599'>600</a>\u001b[0m \u001b[39mfor\u001b[39;00m item \u001b[39min\u001b[39;00m items:\n\u001b[0;32m    <a href='file:///c%3A/Users/carlos.gonzalez/AppData/Local/Programs/Python/Python39/lib/site-packages/git/index/base.py?line=600'>601</a>\u001b[0m     \u001b[39mif\u001b[39;00m \u001b[39misinstance\u001b[39m(item, \u001b[39mstr\u001b[39m):\n\u001b[1;32m--> <a href='file:///c%3A/Users/carlos.gonzalez/AppData/Local/Programs/Python/Python39/lib/site-packages/git/index/base.py?line=601'>602</a>\u001b[0m         paths\u001b[39m.\u001b[39mappend(\u001b[39mself\u001b[39;49m\u001b[39m.\u001b[39;49m_to_relative_path(item))\n\u001b[0;32m    <a href='file:///c%3A/Users/carlos.gonzalez/AppData/Local/Programs/Python/Python39/lib/site-packages/git/index/base.py?line=602'>603</a>\u001b[0m     \u001b[39melif\u001b[39;00m \u001b[39misinstance\u001b[39m(item, (Blob, Submodule)):\n\u001b[0;32m    <a href='file:///c%3A/Users/carlos.gonzalez/AppData/Local/Programs/Python/Python39/lib/site-packages/git/index/base.py?line=603'>604</a>\u001b[0m         entries\u001b[39m.\u001b[39mappend(BaseIndexEntry\u001b[39m.\u001b[39mfrom_blob(item))\n",
      "File \u001b[1;32m~\\AppData\\Local\\Programs\\Python\\Python39\\lib\\site-packages\\git\\index\\base.py:588\u001b[0m, in \u001b[0;36mIndexFile._to_relative_path\u001b[1;34m(self, path)\u001b[0m\n\u001b[0;32m    <a href='file:///c%3A/Users/carlos.gonzalez/AppData/Local/Programs/Python/Python39/lib/site-packages/git/index/base.py?line=585'>586</a>\u001b[0m     \u001b[39mraise\u001b[39;00m InvalidGitRepositoryError(\u001b[39m\"\u001b[39m\u001b[39mrequire non-bare repository\u001b[39m\u001b[39m\"\u001b[39m)\n\u001b[0;32m    <a href='file:///c%3A/Users/carlos.gonzalez/AppData/Local/Programs/Python/Python39/lib/site-packages/git/index/base.py?line=586'>587</a>\u001b[0m \u001b[39mif\u001b[39;00m \u001b[39mnot\u001b[39;00m \u001b[39mstr\u001b[39m(path)\u001b[39m.\u001b[39mstartswith(\u001b[39mstr\u001b[39m(\u001b[39mself\u001b[39m\u001b[39m.\u001b[39mrepo\u001b[39m.\u001b[39mworking_tree_dir)):\n\u001b[1;32m--> <a href='file:///c%3A/Users/carlos.gonzalez/AppData/Local/Programs/Python/Python39/lib/site-packages/git/index/base.py?line=587'>588</a>\u001b[0m     \u001b[39mraise\u001b[39;00m \u001b[39mValueError\u001b[39;00m(\u001b[39m\"\u001b[39m\u001b[39mAbsolute path \u001b[39m\u001b[39m%r\u001b[39;00m\u001b[39m is not in git repository at \u001b[39m\u001b[39m%r\u001b[39;00m\u001b[39m\"\u001b[39m \u001b[39m%\u001b[39m (path, \u001b[39mself\u001b[39m\u001b[39m.\u001b[39mrepo\u001b[39m.\u001b[39mworking_tree_dir))\n\u001b[0;32m    <a href='file:///c%3A/Users/carlos.gonzalez/AppData/Local/Programs/Python/Python39/lib/site-packages/git/index/base.py?line=588'>589</a>\u001b[0m \u001b[39mreturn\u001b[39;00m os\u001b[39m.\u001b[39mpath\u001b[39m.\u001b[39mrelpath(path, \u001b[39mself\u001b[39m\u001b[39m.\u001b[39mrepo\u001b[39m.\u001b[39mworking_tree_dir)\n",
      "\u001b[1;31mValueError\u001b[0m: Absolute path 'C:\\\\Users\\\\carlos.gonzalez\\\\AppData\\\\Local\\\\Programs\\\\Microsoft VS Code\\\\Linea.html' is not in git repository at 'C:\\\\Users\\\\carlos.gonzalez\\\\AppData\\\\Local\\\\Programs\\\\Microsoft VS Code\\\\3RA APP'"
     ]
    }
   ],
   "source": [
    "import time\n",
    "import git\n",
    "import pygit\n",
    "import os\n",
    "from git import Repo\n",
    "from bokeh.plotting import figure\n",
    "from bokeh.io import output_file, show, save, export_png\n",
    "\n",
    "x=[1,2,3,4,5,6,7,8,9,10]\n",
    "y=[11,12,13,14,15,16,17,18,19,20]\n",
    "\n",
    "output_file(\"Linea.html\",\"Bokeh_plot\")\n",
    "\n",
    "f=figure()\n",
    "\n",
    "f.line(x,y)\n",
    "\n",
    "s=str(save(f))\n",
    "file_dir=f\"{s}\"\n",
    "repo_dir =\"3RA APP\"\n",
    "repo = Repo(repo_dir)\n",
    "commit_message = str(time.localtime)\n",
    "repo.index.add(s)\n",
    "repo.index.commit(commit_message)\n",
    "\n",
    "show(f)"
   ]
  }
 ],
 "metadata": {
  "interpreter": {
   "hash": "acc4270b0763756cc69ad57d175f4da86e4a9cbd6e09d22612d45a5fef033a01"
  },
  "kernelspec": {
   "display_name": "Python 3.10.1 64-bit",
   "language": "python",
   "name": "python3"
  },
  "language_info": {
   "codemirror_mode": {
    "name": "ipython",
    "version": 3
   },
   "file_extension": ".py",
   "mimetype": "text/x-python",
   "name": "python",
   "nbconvert_exporter": "python",
   "pygments_lexer": "ipython3",
   "version": "3.9.9"
  },
  "orig_nbformat": 4
 },
 "nbformat": 4,
 "nbformat_minor": 2
}
