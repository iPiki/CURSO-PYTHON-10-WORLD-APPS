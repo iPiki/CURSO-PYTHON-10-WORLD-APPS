{
 "cells": [
  {
   "cell_type": "code",
   "execution_count": null,
   "metadata": {},
   "outputs": [],
   "source": [
    "import pandas\n",
    "\n",
    "from bokeh.plotting import figure\n",
    "from bokeh.io import output_file, save, show \n",
    "\n",
    "x=[1,2,3,4,5,6,7,8,9,10]\n",
    "y=[11,12,13,14,15,16,17,18,19,20]\n",
    "\n",
    "output_file(r\"C:\\Users\\carlos.gonzalez\\Desktop\\Linea.html\")\n",
    "\n",
    "f=figure()\n",
    "\n",
    "f.line(x,y)\n",
    "\n",
    "save(f)\n",
    "\n",
    "show(f)"
   ]
  }
 ],
 "metadata": {
  "interpreter": {
   "hash": "e9774324ad22bef9299595d504c9364974fc0abbd674624acb6c4bc5531c7ff5"
  },
  "kernelspec": {
   "display_name": "Python 3.9.9 64-bit",
   "language": "python",
   "name": "python3"
  },
  "language_info": {
   "name": "python",
   "version": "3.9.9"
  },
  "orig_nbformat": 4
 },
 "nbformat": 4,
 "nbformat_minor": 2
}
