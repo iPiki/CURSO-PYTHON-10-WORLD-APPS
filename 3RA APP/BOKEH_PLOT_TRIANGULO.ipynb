{
 "cells": [
  {
   "cell_type": "code",
   "execution_count": 1,
   "metadata": {},
   "outputs": [],
   "source": [
    "from bokeh.plotting import figure\n",
    "from bokeh.io import output_file, save, show \n",
    "\n",
    "x= [3,7.5,9]\n",
    "y= [3,6,10]\n",
    "\n",
    "output_file(r\"C:\\Users\\carlos.gonzalez\\Desktop\\Traingulo.html\")\n",
    "\n",
    "f=figure()\n",
    "\n",
    "f.triangle(x,y)\n",
    "\n",
    "save(f)\n",
    "\n",
    "show(f)"
   ]
  }
 ],
 "metadata": {
  "interpreter": {
   "hash": "acc4270b0763756cc69ad57d175f4da86e4a9cbd6e09d22612d45a5fef033a01"
  },
  "kernelspec": {
   "display_name": "Python 3.10.1 64-bit",
   "language": "python",
   "name": "python3"
  },
  "language_info": {
   "codemirror_mode": {
    "name": "ipython",
    "version": 3
   },
   "file_extension": ".py",
   "mimetype": "text/x-python",
   "name": "python",
   "nbconvert_exporter": "python",
   "pygments_lexer": "ipython3",
   "version": "3.9.9"
  },
  "orig_nbformat": 4
 },
 "nbformat": 4,
 "nbformat_minor": 2
}
